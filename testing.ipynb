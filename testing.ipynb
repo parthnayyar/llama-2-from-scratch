{
 "cells": [
  {
   "cell_type": "code",
   "execution_count": 1,
   "id": "eac712dc",
   "metadata": {},
   "outputs": [],
   "source": [
    "import torch"
   ]
  },
  {
   "cell_type": "code",
   "execution_count": 3,
   "id": "b6f5855f",
   "metadata": {},
   "outputs": [],
   "source": [
    "B, T, N_KV_H, n_rep, H_D = 2, 3, 4, 5, 6"
   ]
  },
  {
   "cell_type": "code",
   "execution_count": 6,
   "id": "865ebb66",
   "metadata": {},
   "outputs": [],
   "source": [
    "x = torch.randn(B, T, N_KV_H, n_rep, H_D)"
   ]
  },
  {
   "cell_type": "code",
   "execution_count": 7,
   "id": "b0ab4014",
   "metadata": {},
   "outputs": [
    {
     "data": {
      "text/plain": [
       "tensor(True)"
      ]
     },
     "execution_count": 7,
     "metadata": {},
     "output_type": "execute_result"
    }
   ],
   "source": [
    "(x.reshape(B, T, N_KV_H * n_rep, H_D) == x.view(B, T, N_KV_H * n_rep, H_D)).all()"
   ]
  },
  {
   "cell_type": "code",
   "execution_count": 8,
   "id": "e212bbb7",
   "metadata": {},
   "outputs": [
    {
     "data": {
      "text/plain": [
       "tensor(True)"
      ]
     },
     "execution_count": 8,
     "metadata": {},
     "output_type": "execute_result"
    }
   ],
   "source": [
    "(x.reshape(*x.shape[:-1], -1, 2) == x.view(*x.shape[:-1], -1, 2)).all()"
   ]
  },
  {
   "cell_type": "code",
   "execution_count": 9,
   "id": "fbdfb042",
   "metadata": {},
   "outputs": [
    {
     "ename": "RuntimeError",
     "evalue": "shape '[2, 3, 4, 5]' is invalid for input of size 720",
     "output_type": "error",
     "traceback": [
      "\u001b[31m---------------------------------------------------------------------------\u001b[39m",
      "\u001b[31mRuntimeError\u001b[39m                              Traceback (most recent call last)",
      "\u001b[36mCell\u001b[39m\u001b[36m \u001b[39m\u001b[32mIn[9]\u001b[39m\u001b[32m, line 1\u001b[39m\n\u001b[32m----> \u001b[39m\u001b[32m1\u001b[39m (\u001b[43mx\u001b[49m\u001b[43m.\u001b[49m\u001b[43mreshape\u001b[49m\u001b[43m(\u001b[49m\u001b[43m*\u001b[49m\u001b[43mx\u001b[49m\u001b[43m.\u001b[49m\u001b[43mshape\u001b[49m\u001b[43m[\u001b[49m\u001b[43m:\u001b[49m\u001b[43m-\u001b[49m\u001b[32;43m1\u001b[39;49m\u001b[43m]\u001b[49m\u001b[43m)\u001b[49m == x.view(*x.shape[:-\u001b[32m1\u001b[39m])).all()\n",
      "\u001b[31mRuntimeError\u001b[39m: shape '[2, 3, 4, 5]' is invalid for input of size 720"
     ]
    }
   ],
   "source": [
    "(x.reshape(*x.shape[:-1]) == x.view(*x.shape[:-1])).all()"
   ]
  }
 ],
 "metadata": {
  "kernelspec": {
   "display_name": "llama-2-from-scratch",
   "language": "python",
   "name": "python3"
  },
  "language_info": {
   "codemirror_mode": {
    "name": "ipython",
    "version": 3
   },
   "file_extension": ".py",
   "mimetype": "text/x-python",
   "name": "python",
   "nbconvert_exporter": "python",
   "pygments_lexer": "ipython3",
   "version": "3.12.9"
  }
 },
 "nbformat": 4,
 "nbformat_minor": 5
}
